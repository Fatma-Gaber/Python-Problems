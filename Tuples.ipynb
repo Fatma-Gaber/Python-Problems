{
 "cells": [
  {
   "cell_type": "markdown",
   "id": "100ecbd6",
   "metadata": {},
   "source": [
    "# Tuples\n",
    "\n",
    "###      Task\n",
    "         Input: Given an integer , n, and  space-separated integers as input, create a tuple, t, of those n integers.\n",
    "             \n",
    "             \n",
    "         Ouput: Then compute and print the result of hash(t) ."
   ]
  },
  {
   "cell_type": "code",
   "execution_count": null,
   "id": "5ada5229",
   "metadata": {},
   "outputs": [],
   "source": [
    "\n",
    "n = int(raw_input())\n",
    "\n",
    "    integer_list = map(int, raw_input().split())\n",
    "    \n",
    "    t=tuple(integer_list)\n",
    "    \n",
    "    print(hash(t))\n",
    "   \n"
   ]
  },
  {
   "cell_type": "code",
   "execution_count": null,
   "id": "96fe3b66",
   "metadata": {},
   "outputs": [],
   "source": []
  }
 ],
 "metadata": {
  "kernelspec": {
   "display_name": "Python 3",
   "language": "python",
   "name": "python3"
  },
  "language_info": {
   "codemirror_mode": {
    "name": "ipython",
    "version": 3
   },
   "file_extension": ".py",
   "mimetype": "text/x-python",
   "name": "python",
   "nbconvert_exporter": "python",
   "pygments_lexer": "ipython3",
   "version": "3.8.8"
  }
 },
 "nbformat": 4,
 "nbformat_minor": 5
}

{
 "cells": [
  {
   "cell_type": "markdown",
   "id": "40fb727e",
   "metadata": {},
   "source": [
    "# Capitalize\n",
    "### Task\n",
    "        You are asked to ensure that the first and last names of people begin with a capital letter "
   ]
  },
  {
   "cell_type": "code",
   "execution_count": 1,
   "id": "190a5aa5",
   "metadata": {},
   "outputs": [],
   "source": [
    "def solve(s):\n",
    "   for i in s.split():\n",
    "        s = s.replace(i,i.capitalize())\n",
    "   return s"
   ]
  },
  {
   "cell_type": "code",
   "execution_count": null,
   "id": "ae7adaca",
   "metadata": {},
   "outputs": [],
   "source": []
  }
 ],
 "metadata": {
  "kernelspec": {
   "display_name": "Python 3",
   "language": "python",
   "name": "python3"
  },
  "language_info": {
   "codemirror_mode": {
    "name": "ipython",
    "version": 3
   },
   "file_extension": ".py",
   "mimetype": "text/x-python",
   "name": "python",
   "nbconvert_exporter": "python",
   "pygments_lexer": "ipython3",
   "version": "3.8.8"
  }
 },
 "nbformat": 4,
 "nbformat_minor": 5
}

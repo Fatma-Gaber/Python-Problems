{
 "cells": [
  {
   "cell_type": "markdown",
   "id": "968b268f",
   "metadata": {},
   "source": [
    "# Find The Runner-Up Score\n",
    "\n",
    "### Task\n",
    "      . You are given n scores\n",
    "      . Store them in a list and find the score of the runner-up."
   ]
  },
  {
   "cell_type": "code",
   "execution_count": null,
   "id": "11830134",
   "metadata": {},
   "outputs": [],
   "source": [
    "  n = int(raw_input())\n",
    "    \n",
    "    arr = map(int, raw_input().split())\n",
    "    ## Find maximum number of Array\n",
    "    \n",
    "    m=max(arr)\n",
    "    ## Count how many value will be maximum\n",
    "    \n",
    "    c=arr.count(m)\n",
    "    ## Remove evey max value\n",
    "    for i in range(c):\n",
    "     arr.remove(m)\n",
    "    ## print the second max value after remove the first one\n",
    "    print(max(arr))\n",
    "    "
   ]
  }
 ],
 "metadata": {
  "kernelspec": {
   "display_name": "Python 3",
   "language": "python",
   "name": "python3"
  },
  "language_info": {
   "codemirror_mode": {
    "name": "ipython",
    "version": 3
   },
   "file_extension": ".py",
   "mimetype": "text/x-python",
   "name": "python",
   "nbconvert_exporter": "python",
   "pygments_lexer": "ipython3",
   "version": "3.8.8"
  }
 },
 "nbformat": 4,
 "nbformat_minor": 5
}

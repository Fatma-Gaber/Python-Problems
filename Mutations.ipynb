{
 "cells": [
  {
   "cell_type": "markdown",
   "id": "19210933",
   "metadata": {},
   "source": [
    "# Mutations\n",
    "\n",
    "### Task\n",
    "          You are given an immutable string\n",
    "           \n",
    "          1- Read a given string\n",
    "          2- change the character at a given index and then print the modified string.."
   ]
  },
  {
   "cell_type": "code",
   "execution_count": null,
   "id": "30c10034",
   "metadata": {},
   "outputs": [],
   "source": []
  }
 ],
 "metadata": {
  "kernelspec": {
   "display_name": "Python 3",
   "language": "python",
   "name": "python3"
  },
  "language_info": {
   "codemirror_mode": {
    "name": "ipython",
    "version": 3
   },
   "file_extension": ".py",
   "mimetype": "text/x-python",
   "name": "python",
   "nbconvert_exporter": "python",
   "pygments_lexer": "ipython3",
   "version": "3.8.8"
  }
 },
 "nbformat": 4,
 "nbformat_minor": 5
}

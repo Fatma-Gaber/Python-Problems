{
 "cells": [
  {
   "cell_type": "markdown",
   "id": "7ecc9cdd",
   "metadata": {},
   "source": [
    "# Mutations\n",
    "\n",
    "### Task\n",
    "          You are given an immutable string\n",
    "           \n",
    "          1- Read a given string\n",
    "          2- change the character at a given index and then print the modified string.."
   ]
  },
  {
   "cell_type": "code",
   "execution_count": null,
   "id": "b0f14cb0",
   "metadata": {},
   "outputs": [],
   "source": [
    "def mutate_string(string, position, character):\n",
    "    #convert string to list to make it mutable\n",
    "    l=list(string)\n",
    "    l[position]=character\n",
    "    #convert it to string\n",
    "    s=\"\".join(l)\n",
    "    return s\n",
    "\n",
    "if __name__ == '__main__':\n",
    "    s = raw_input()\n",
    "    i, c = raw_input().split()\n",
    "    s_new = mutate_string(s, int(i), c)\n",
    "    print s_new"
   ]
  }
 ],
 "metadata": {
  "kernelspec": {
   "display_name": "Python 3",
   "language": "python",
   "name": "python3"
  },
  "language_info": {
   "codemirror_mode": {
    "name": "ipython",
    "version": 3
   },
   "file_extension": ".py",
   "mimetype": "text/x-python",
   "name": "python",
   "nbconvert_exporter": "python",
   "pygments_lexer": "ipython3",
   "version": "3.8.8"
  }
 },
 "nbformat": 4,
 "nbformat_minor": 5
}

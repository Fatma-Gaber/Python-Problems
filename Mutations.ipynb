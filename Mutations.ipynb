{
 "cells": [
  {
   "cell_type": "markdown",
   "id": "614867aa",
   "metadata": {},
   "source": [
    "# Mutations\n",
    "\n",
    "### Task\n",
    "          You are given an immutable string\n",
    "           \n",
    "          1- Read a given string\n",
    "          2- change the character at a given index and then print the modified string.."
   ]
  },
  {
   "cell_type": "code",
   "execution_count": 1,
   "id": "7f0da697",
   "metadata": {},
   "outputs": [
    {
     "ename": "SyntaxError",
     "evalue": "Missing parentheses in call to 'print'. Did you mean print(s_new)? (<ipython-input-1-6caa4512aded>, line 13)",
     "output_type": "error",
     "traceback": [
      "\u001b[1;36m  File \u001b[1;32m\"<ipython-input-1-6caa4512aded>\"\u001b[1;36m, line \u001b[1;32m13\u001b[0m\n\u001b[1;33m    print s_new\u001b[0m\n\u001b[1;37m          ^\u001b[0m\n\u001b[1;31mSyntaxError\u001b[0m\u001b[1;31m:\u001b[0m Missing parentheses in call to 'print'. Did you mean print(s_new)?\n"
     ]
    }
   ],
   "source": [
    "def mutate_string(string, position, character):\n",
    "    #convert string to list to make it mutable\n",
    "    l=list(string)\n",
    "    l[position]=character\n",
    "    #convert it to string\n",
    "    s=\"\".join(l)\n",
    "    return s\n",
    "\n",
    "if __name__ == '__main__':\n",
    "    s = raw_input()\n",
    "    i, c = raw_input().split()\n",
    "    s_new = mutate_string(s, int(i), c)\n",
    "    print s_new"
   ]
  },
  {
   "cell_type": "code",
   "execution_count": null,
   "id": "95702ef5",
   "metadata": {},
   "outputs": [],
   "source": []
  }
 ],
 "metadata": {
  "kernelspec": {
   "display_name": "Python 3",
   "language": "python",
   "name": "python3"
  },
  "language_info": {
   "codemirror_mode": {
    "name": "ipython",
    "version": 3
   },
   "file_extension": ".py",
   "mimetype": "text/x-python",
   "name": "python",
   "nbconvert_exporter": "python",
   "pygments_lexer": "ipython3",
   "version": "3.8.8"
  }
 },
 "nbformat": 4,
 "nbformat_minor": 5
}

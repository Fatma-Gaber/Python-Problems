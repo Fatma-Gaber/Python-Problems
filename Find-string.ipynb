{
 "cells": [
  {
   "cell_type": "markdown",
   "id": "b4c7baf8",
   "metadata": {},
   "source": [
    "# Find a String\n",
    "### Task\n",
    "             the user enters a string and a substring.\n",
    "             \n",
    "             You have to print the number of times that the substring occurs in the given string"
   ]
  },
  {
   "cell_type": "code",
   "execution_count": null,
   "id": "c1aa5c77",
   "metadata": {},
   "outputs": [],
   "source": [
    "def count_substring(string, sub_string):\n",
    "    ## start code\n",
    "    c=0\n",
    "    l=len(sub_string)\n",
    "    for i in range(0,len(string)):\n",
    "        s=string[i:i+l]\n",
    "        if s==sub_string:\n",
    "            c+=1\n",
    "        \n",
    "    return c\n",
    "## \n",
    "if __name__ == '__main__':\n",
    "    string = raw_input().strip()\n",
    "    sub_string = raw_input().strip()\n",
    "    \n",
    "    count = count_substring(string, sub_string)\n",
    "    print count"
   ]
  }
 ],
 "metadata": {
  "kernelspec": {
   "display_name": "Python 3",
   "language": "python",
   "name": "python3"
  },
  "language_info": {
   "codemirror_mode": {
    "name": "ipython",
    "version": 3
   },
   "file_extension": ".py",
   "mimetype": "text/x-python",
   "name": "python",
   "nbconvert_exporter": "python",
   "pygments_lexer": "ipython3",
   "version": "3.8.8"
  }
 },
 "nbformat": 4,
 "nbformat_minor": 5
}

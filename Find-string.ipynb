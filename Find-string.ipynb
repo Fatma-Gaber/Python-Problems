{
 "cells": [
  {
   "cell_type": "markdown",
   "id": "16cf2192",
   "metadata": {},
   "source": [
    "# Find a String\n",
    "### Task\n",
    "             the user enters a string and a substring.\n",
    "             \n",
    "             You have to print the number of times that the substring occurs in the given string"
   ]
  },
  {
   "cell_type": "code",
   "execution_count": 1,
   "id": "2fca4dec",
   "metadata": {},
   "outputs": [
    {
     "ename": "SyntaxError",
     "evalue": "Missing parentheses in call to 'print'. Did you mean print(count)? (<ipython-input-1-9314b41abb63>, line 17)",
     "output_type": "error",
     "traceback": [
      "\u001b[1;36m  File \u001b[1;32m\"<ipython-input-1-9314b41abb63>\"\u001b[1;36m, line \u001b[1;32m17\u001b[0m\n\u001b[1;33m    print count\u001b[0m\n\u001b[1;37m          ^\u001b[0m\n\u001b[1;31mSyntaxError\u001b[0m\u001b[1;31m:\u001b[0m Missing parentheses in call to 'print'. Did you mean print(count)?\n"
     ]
    }
   ],
   "source": [
    "def count_substring(string, sub_string):\n",
    "    ## start code\n",
    "    c=0\n",
    "    l=len(sub_string)\n",
    "    for i in range(0,len(string)):\n",
    "        s=string[i:i+l]\n",
    "        if s==sub_string:\n",
    "            c+=1\n",
    "        \n",
    "    return c\n",
    "## End\n",
    "if __name__ == '__main__':\n",
    "    string = raw_input().strip()\n",
    "    sub_string = raw_input().strip()\n",
    "    \n",
    "    count = count_substring(string, sub_string)\n",
    "    print count"
   ]
  },
  {
   "cell_type": "code",
   "execution_count": null,
   "id": "c5450116",
   "metadata": {},
   "outputs": [],
   "source": []
  }
 ],
 "metadata": {
  "kernelspec": {
   "display_name": "Python 3",
   "language": "python",
   "name": "python3"
  },
  "language_info": {
   "codemirror_mode": {
    "name": "ipython",
    "version": 3
   },
   "file_extension": ".py",
   "mimetype": "text/x-python",
   "name": "python",
   "nbconvert_exporter": "python",
   "pygments_lexer": "ipython3",
   "version": "3.8.8"
  }
 },
 "nbformat": 4,
 "nbformat_minor": 5
}

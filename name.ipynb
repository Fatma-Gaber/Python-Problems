{
 "cells": [
  {
   "cell_type": "markdown",
   "id": "46578181",
   "metadata": {},
   "source": [
    "# What's Your name?\n",
    "### Task\n",
    "          You are given the firstname and lastname of a person on two different lines\n",
    "          \n",
    "          Your task is to read them and print the following:\n",
    "          \n",
    "                        Hello firstname lastname! You just delved into python."
   ]
  },
  {
   "cell_type": "code",
   "execution_count": null,
   "id": "390cf650",
   "metadata": {},
   "outputs": [],
   "source": [
    "def print_full_name(first, last):\n",
    "    # Write your code here\n",
    "    last=last+\"!\"\n",
    "    print(\"Hello\"+\" \"+first+\" \"+last+\" \"+\"You just delved into python.\")\n",
    "    #End\n",
    "    \n",
    "if __name__ == '__main__':\n",
    "    first_name = raw_input()\n",
    "    last_name = raw_input()\n",
    "    print_full_name(first_name, last_name)"
   ]
  }
 ],
 "metadata": {
  "kernelspec": {
   "display_name": "Python 3",
   "language": "python",
   "name": "python3"
  },
  "language_info": {
   "codemirror_mode": {
    "name": "ipython",
    "version": 3
   },
   "file_extension": ".py",
   "mimetype": "text/x-python",
   "name": "python",
   "nbconvert_exporter": "python",
   "pygments_lexer": "ipython3",
   "version": "3.8.8"
  }
 },
 "nbformat": 4,
 "nbformat_minor": 5
}

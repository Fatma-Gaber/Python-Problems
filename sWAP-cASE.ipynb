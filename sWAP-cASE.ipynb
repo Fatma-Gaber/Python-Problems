{
 "cells": [
  {
   "cell_type": "markdown",
   "id": "1bbe9a9e",
   "metadata": {},
   "source": [
    "# sWAP cASE\n",
    " ###     Task\n",
    "               You are given a string and your task is to swap cases.\n",
    "               convert all lowercase letters to uppercase letters and vice versa."
   ]
  },
  {
   "cell_type": "code",
   "execution_count": null,
   "id": "3bfd7acb",
   "metadata": {},
   "outputs": [],
   "source": [
    "def swap_case(s):\n",
    "    ##Start solution\n",
    "   Output = '';\n",
    "   for i in s:\n",
    "        if(i.isupper()==True):\n",
    "            Output += (i.lower())\n",
    "        elif(i.islower()==True):\n",
    "            Output += (i.upper())\n",
    "        else:\n",
    "            Output += i;\n",
    "   return Output;\n",
    "##End\n",
    "if __name__ == '__main__':\n",
    "    s = raw_input()\n",
    "    result = swap_case(s)\n",
    "    print result"
   ]
  }
 ],
 "metadata": {
  "kernelspec": {
   "display_name": "Python 3",
   "language": "python",
   "name": "python3"
  },
  "language_info": {
   "codemirror_mode": {
    "name": "ipython",
    "version": 3
   },
   "file_extension": ".py",
   "mimetype": "text/x-python",
   "name": "python",
   "nbconvert_exporter": "python",
   "pygments_lexer": "ipython3",
   "version": "3.8.8"
  }
 },
 "nbformat": 4,
 "nbformat_minor": 5
}

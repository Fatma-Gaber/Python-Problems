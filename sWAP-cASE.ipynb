{
 "cells": [
  {
   "cell_type": "markdown",
   "id": "88aa2e1c",
   "metadata": {},
   "source": [
    "# sWAP cASE\n",
    " ###     Task\n",
    "               You are given a string and your task is to swap cases.\n",
    "               convert all lowercase letters to uppercase letters and vice versa."
   ]
  },
  {
   "cell_type": "code",
   "execution_count": null,
   "id": "e141874e",
   "metadata": {},
   "outputs": [],
   "source": []
  }
 ],
 "metadata": {
  "kernelspec": {
   "display_name": "Python 3",
   "language": "python",
   "name": "python3"
  },
  "language_info": {
   "codemirror_mode": {
    "name": "ipython",
    "version": 3
   },
   "file_extension": ".py",
   "mimetype": "text/x-python",
   "name": "python",
   "nbconvert_exporter": "python",
   "pygments_lexer": "ipython3",
   "version": "3.8.8"
  }
 },
 "nbformat": 4,
 "nbformat_minor": 5
}

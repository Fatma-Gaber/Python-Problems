{
 "cells": [
  {
   "cell_type": "markdown",
   "id": "1d089308",
   "metadata": {},
   "source": [
    "#  Find The Percentage\n",
    "\n",
    "###            Task \n",
    "\n",
    "    Input: code stub will read in a dictionary containing key/value pairs of name:[marks] for a list of students\n",
    "    \n",
    "    Output: Print the average of the marks array for the student name provided, showing 2 places after the decimal."
   ]
  },
  {
   "cell_type": "code",
   "execution_count": null,
   "id": "01b784bd",
   "metadata": {},
   "outputs": [],
   "source": [
    "  n = int(raw_input())\n",
    "    \n",
    "    student_marks = {}\n",
    "    \n",
    "    for _ in range(n):\n",
    "        \n",
    "        line = raw_input().split()\n",
    "        \n",
    "        name, scores = line[0], line[1:]\n",
    "        \n",
    "        scores = map(float, scores)\n",
    "        \n",
    "        student_marks[name] = scores\n",
    "        \n",
    "    query_name = raw_input()\n",
    "    \n",
    "    ## start of Solution\n",
    "    \n",
    "    l=list(student_marks[query_name])\n",
    "    percentage=sum(l)/len(l)\n",
    "    print(\"%.2f\" % percentage)\n"
   ]
  }
 ],
 "metadata": {
  "kernelspec": {
   "display_name": "Python 3",
   "language": "python",
   "name": "python3"
  },
  "language_info": {
   "codemirror_mode": {
    "name": "ipython",
    "version": 3
   },
   "file_extension": ".py",
   "mimetype": "text/x-python",
   "name": "python",
   "nbconvert_exporter": "python",
   "pygments_lexer": "ipython3",
   "version": "3.8.8"
  }
 },
 "nbformat": 4,
 "nbformat_minor": 5
}

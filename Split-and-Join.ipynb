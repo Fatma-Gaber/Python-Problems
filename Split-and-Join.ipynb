{
 "cells": [
  {
   "cell_type": "markdown",
   "id": "80d5e587",
   "metadata": {},
   "source": [
    "#  String Split and Join\n",
    "### Task\n",
    "\n",
    "              You are given a string. \n",
    "               \n",
    "              Split the string on a \" \" (space)and join using a - hyphen"
   ]
  },
  {
   "cell_type": "code",
   "execution_count": null,
   "id": "6e696c62",
   "metadata": {},
   "outputs": [],
   "source": [
    "def split_and_join(line):\n",
    "    # write your code here\n",
    "    s=line.split(\" \")\n",
    "    j=\"-\".join(s)\n",
    "    return j\n",
    "# End the code\n",
    "\n",
    "if __name__ == '__main__':\n",
    "    line = raw_input()\n",
    "    result = split_and_join(line)\n",
    "    print result"
   ]
  }
 ],
 "metadata": {
  "kernelspec": {
   "display_name": "Python 3",
   "language": "python",
   "name": "python3"
  },
  "language_info": {
   "codemirror_mode": {
    "name": "ipython",
    "version": 3
   },
   "file_extension": ".py",
   "mimetype": "text/x-python",
   "name": "python",
   "nbconvert_exporter": "python",
   "pygments_lexer": "ipython3",
   "version": "3.8.8"
  }
 },
 "nbformat": 4,
 "nbformat_minor": 5
}

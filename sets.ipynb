{
 "cells": [
  {
   "cell_type": "markdown",
   "id": "27fa451c",
   "metadata": {},
   "source": [
    "# Introduction to Sets\n",
    "### Task\n",
    "        compute the average of all the plants with distinct heights in her greenhouse\n",
    "        using set method which (order the numbers without dublicated)"
   ]
  },
  {
   "cell_type": "code",
   "execution_count": 1,
   "id": "d799bdfd",
   "metadata": {},
   "outputs": [],
   "source": [
    "def average(array):\n",
    "    # your code goes \n",
    "    s=set((array))\n",
    "    sumation=sum(s)\n",
    "    length=len(s)\n",
    "    return sumation/length"
   ]
  },
  {
   "cell_type": "code",
   "execution_count": null,
   "id": "97ee0f0e",
   "metadata": {},
   "outputs": [],
   "source": []
  }
 ],
 "metadata": {
  "kernelspec": {
   "display_name": "Python 3",
   "language": "python",
   "name": "python3"
  },
  "language_info": {
   "codemirror_mode": {
    "name": "ipython",
    "version": 3
   },
   "file_extension": ".py",
   "mimetype": "text/x-python",
   "name": "python",
   "nbconvert_exporter": "python",
   "pygments_lexer": "ipython3",
   "version": "3.8.8"
  }
 },
 "nbformat": 4,
 "nbformat_minor": 5
}
